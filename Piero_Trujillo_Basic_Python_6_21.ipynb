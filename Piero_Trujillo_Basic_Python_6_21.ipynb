{
  "nbformat": 4,
  "nbformat_minor": 0,
  "metadata": {
    "colab": {
      "name": "Piero Trujillo Basic_Python_6/21.ipynb",
      "provenance": [],
      "collapsed_sections": []
    },
    "kernelspec": {
      "name": "python3",
      "display_name": "Python 3"
    },
    "language_info": {
      "name": "python"
    },
    "accelerator": "GPU"
  },
  "cells": [
    {
      "cell_type": "markdown",
      "metadata": {
        "id": "p25xcLH-O2Ng"
      },
      "source": [
        "# Basic Python Review"
      ]
    },
    {
      "cell_type": "markdown",
      "metadata": {
        "id": "qmJt6AsZO_J-"
      },
      "source": [
        "## 1. For Loops\n",
        "a. Write a for loop that iterates a variable x from values 0 to 10 and prints x after each iteration."
      ]
    },
    {
      "cell_type": "code",
      "metadata": {
        "id": "cQhxTJk0OV7J",
        "colab": {
          "base_uri": "https://localhost:8080/"
        },
        "outputId": "2851bb8a-7e71-4c61-f345-fee2696b6332"
      },
      "source": [
        "import numpy as np\n",
        "for x in np.arange(11):\n",
        "    print(x)"
      ],
      "execution_count": null,
      "outputs": [
        {
          "output_type": "stream",
          "text": [
            "0\n",
            "1\n",
            "2\n",
            "3\n",
            "4\n",
            "5\n",
            "6\n",
            "7\n",
            "8\n",
            "9\n",
            "10\n"
          ],
          "name": "stdout"
        }
      ]
    },
    {
      "cell_type": "markdown",
      "metadata": {
        "id": "LGwkbbdQQeIG"
      },
      "source": [
        "b. Write a for loop that iterates a vector < i , j > = < 1, 7 > with i increasing by 2 each iteration and j decreasing by 1 each iteration until i = j."
      ]
    },
    {
      "cell_type": "code",
      "metadata": {
        "id": "ujvyQtuDQfR0",
        "colab": {
          "base_uri": "https://localhost:8080/"
        },
        "outputId": "09a13834-db0c-4ab7-e975-21817aec0113"
      },
      "source": [
        "import numpy as np\n",
        "i = 1\n",
        "j = 7\n",
        "firstVector = [i,j]\n",
        "\n",
        "for vec in firstVector:\n",
        "  if i !=j:\n",
        "    i=i+2\n",
        "    j=j-1\n",
        "    firstVector = [i,j]\n",
        "    secondVector = np.array(firstVector)\n",
        "    print(secondVector)"
      ],
      "execution_count": null,
      "outputs": [
        {
          "output_type": "stream",
          "text": [
            "[3 6]\n",
            "[5 5]\n"
          ],
          "name": "stdout"
        }
      ]
    },
    {
      "cell_type": "markdown",
      "metadata": {
        "id": "y0OyML6APGDg"
      },
      "source": [
        "## 2. While Loops\n",
        "a. Write a while loop that squares a variable z, initialized at 1, until z is greater then 70."
      ]
    },
    {
      "cell_type": "code",
      "metadata": {
        "id": "bI1ENOx6RPkH",
        "colab": {
          "base_uri": "https://localhost:8080/"
        },
        "outputId": "36f968bc-e4b5-442e-b2b7-5e677fbffa6e"
      },
      "source": [
        "z = 1\n",
        "while (z <= 70):\n",
        "  z = z*z\n",
        "  z = z+1\n",
        "print(z)"
      ],
      "execution_count": null,
      "outputs": [
        {
          "output_type": "stream",
          "text": [
            "677\n"
          ],
          "name": "stdout"
        }
      ]
    },
    {
      "cell_type": "markdown",
      "metadata": {
        "id": "2kLe8fdQRUW7"
      },
      "source": [
        "b. Write a while loop that returns the following:\n",
        "\n",
        "1010101\n",
        "\n",
        " 10101\n",
        "\n",
        "  101  \n",
        "\n",
        "   1   "
      ]
    },
    {
      "cell_type": "code",
      "metadata": {
        "id": "NaCp8sAzRWJi",
        "colab": {
          "base_uri": "https://localhost:8080/"
        },
        "outputId": "9248b82d-a673-4e23-9f0d-d78687480536"
      },
      "source": [
        "i = 3\n",
        "\n",
        "while (i > 0):\n",
        "    print(\"10\"*i + \"1\")\n",
        "    i = i - 1\n",
        "    if(i == 0):\n",
        "        print(\"1\")\n"
      ],
      "execution_count": null,
      "outputs": [
        {
          "output_type": "stream",
          "text": [
            "1010101\n",
            "10101\n",
            "101\n",
            "1\n"
          ],
          "name": "stdout"
        }
      ]
    },
    {
      "cell_type": "markdown",
      "metadata": {
        "id": "I-DmpONEPO8i"
      },
      "source": [
        "## 3. Functions\n",
        "a. Write a function that calculates the area of a Domino's pizza given a diameter, _d_. (Use 3.14 for pi)"
      ]
    },
    {
      "cell_type": "code",
      "metadata": {
        "id": "BJW9qzoNST6k"
      },
      "source": [
        "def pizza_area(d):\n",
        "  area = (d/2)**2 * 3.14\n",
        "  return area"
      ],
      "execution_count": null,
      "outputs": []
    },
    {
      "cell_type": "markdown",
      "metadata": {
        "id": "Vg7YISnqSUX1"
      },
      "source": [
        "b. Call the function to compute the area of a large Domino's pizza (large Domino's pizza have a diameter of 14 inches)."
      ]
    },
    {
      "cell_type": "code",
      "metadata": {
        "id": "lC5c-30sTC9n",
        "colab": {
          "base_uri": "https://localhost:8080/"
        },
        "outputId": "ff54ef67-cddf-4068-ceb1-a313a26cc837"
      },
      "source": [
        "pizza_area(14)"
      ],
      "execution_count": null,
      "outputs": [
        {
          "output_type": "execute_result",
          "data": {
            "text/plain": [
              "153.86"
            ]
          },
          "metadata": {
            "tags": []
          },
          "execution_count": 10
        }
      ]
    },
    {
      "cell_type": "markdown",
      "metadata": {
        "id": "i04PDYsqPSiI"
      },
      "source": [
        "## 4. Classes\n",
        "a. Define a class _cats_ with attributes name, age, and breed.\n",
        "Add an _init_ method that creates an empty list, _toys_. Create a method _pet_, which prints the phrase 'Purrr'. Create another method _info_, which returns the cats name, age, and breed."
      ]
    },
    {
      "cell_type": "code",
      "metadata": {
        "id": "GRWFAlJkWZjU"
      },
      "source": [
        "class Cats:\n",
        "\n",
        "   def __init__(self, name, age, breed):\n",
        "     self.name = name\n",
        "     self.age = age\n",
        "     self.breed = breed\n",
        "     \n",
        "   def init(self):\n",
        "     toys = []\n",
        "\n",
        "   def pet(self):\n",
        "    print(\"Purrr\")\n",
        "\n",
        "   def info(self):\n",
        "    return self.name, self.age, self.breed \n"
      ],
      "execution_count": null,
      "outputs": []
    },
    {
      "cell_type": "markdown",
      "metadata": {
        "id": "TAh-1rGoWaPO"
      },
      "source": [
        "b. Create an instance of the class _cats_ with name 'Garfield', age 3, and breed 'Munchkin'."
      ]
    },
    {
      "cell_type": "code",
      "metadata": {
        "id": "NL9VnUBUZbtZ"
      },
      "source": [
        "cat = Cats(\"Garfield\", 3, \"Munchkin\")"
      ],
      "execution_count": null,
      "outputs": []
    },
    {
      "cell_type": "markdown",
      "metadata": {
        "id": "g8fGczixDhnE"
      },
      "source": [
        "Call the method *pet* on the instance."
      ]
    },
    {
      "cell_type": "code",
      "metadata": {
        "id": "BCyO2qnMDhGM",
        "colab": {
          "base_uri": "https://localhost:8080/"
        },
        "outputId": "5c0b086d-0a77-4f43-bcd2-5a399ccafd76"
      },
      "source": [
        "cat.pet()"
      ],
      "execution_count": null,
      "outputs": [
        {
          "output_type": "stream",
          "text": [
            "Purrr\n"
          ],
          "name": "stdout"
        }
      ]
    },
    {
      "cell_type": "markdown",
      "metadata": {
        "id": "38evUbyjDiAr"
      },
      "source": [
        "Call the method info on the instance."
      ]
    },
    {
      "cell_type": "code",
      "metadata": {
        "id": "Ru9W9mOwDhVM",
        "colab": {
          "base_uri": "https://localhost:8080/"
        },
        "outputId": "2133fb73-f852-4613-ab55-3b6fbc02a3d4"
      },
      "source": [
        "cat.info()"
      ],
      "execution_count": null,
      "outputs": [
        {
          "output_type": "execute_result",
          "data": {
            "text/plain": [
              "('Garfield', 3, 'Munchkin')"
            ]
          },
          "metadata": {
            "tags": []
          },
          "execution_count": 32
        }
      ]
    },
    {
      "cell_type": "code",
      "metadata": {
        "id": "1BgDhDOgz3Ur"
      },
      "source": [
        ""
      ],
      "execution_count": null,
      "outputs": []
    }
  ]
}